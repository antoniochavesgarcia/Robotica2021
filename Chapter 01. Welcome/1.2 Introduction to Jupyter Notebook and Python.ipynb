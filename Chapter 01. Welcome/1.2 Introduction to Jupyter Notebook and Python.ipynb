{
 "cells": [
  {
   "cell_type": "markdown",
   "metadata": {},
   "source": [
    "<img src=\"./images/jupyter_logo.png\" width=\"500\">\n",
    "\n",
    "\n",
    "# 1. Introduction to Jupyter Notebook and Python\n",
    "\n",
    "This interactive book has been written by means of the **Jupyter Notebook** framework, which allows us to design documents (also called **notebooks**, or **jupyter notebooks**) that combine the typical elements in a book (text, equations, figures, etc.) and multimedia resources like videos or audios with code cells that can be edited and executed. That is, such notebooks mix explanations and interactive code, all in the same way. \n",
    "\n",
    "## Jupyter notebooks\n",
    "\n",
    "Jupyter notebooks are divided in **cells** that can be executed by pressing <kbd>Ctrl</kbd> + <kbd>Enter</kbd>. There are two main types of cells:\n",
    "- **Markdown cells** (like this one) used for writing text and adding media elements (more info about markdown here [introduction](https://www.markdownguide.org/getting-started) or here [cheatsheet](https://github.com/adam-p/markdown-here/wiki/Markdown-Cheatsheet)), and \n",
    "- **Code/Python cells** (like the one below) which content is considered as executable code that can produce a result displayed below the cell."
   ]
  },
  {
   "cell_type": "code",
   "execution_count": 5,
   "metadata": {},
   "outputs": [
    {
     "output_type": "error",
     "ename": "ModuleNotFoundError",
     "evalue": "No module named &#39;scipy&#39;",
     "traceback": [
      "\u001b[1;31m---------------------------------------------------------------------------\u001b[0m",
      "\u001b[1;31mModuleNotFoundError\u001b[0m                       Traceback (most recent call last)",
      "\u001b[1;32m&lt;ipython-input-5-9ce972b937da&gt;\u001b[0m in \u001b[0;36m&lt;module&gt;\u001b[1;34m\u001b[0m\n\u001b[0;32m      1\u001b[0m \u001b[1;31m# This is a Code cell written in Python!\u001b[0m\u001b[1;33m\u001b[0m\u001b[1;33m\u001b[0m\u001b[1;33m\u001b[0m\u001b[0m\n\u001b[1;32m----&gt; 2\u001b[1;33m \u001b[1;32mfrom\u001b[0m \u001b[0mscipy\u001b[0m\u001b[1;33m.\u001b[0m\u001b[0mspecial\u001b[0m \u001b[1;32mimport\u001b[0m \u001b[0mperm\u001b[0m\u001b[1;33m\u001b[0m\u001b[1;33m\u001b[0m\u001b[0m\n\u001b[0m\u001b[0;32m      3\u001b[0m \u001b[1;31m#find permutation of 5, 2 using perm (N, k) function\u001b[0m\u001b[1;33m\u001b[0m\u001b[1;33m\u001b[0m\u001b[1;33m\u001b[0m\u001b[0m\n\u001b[0;32m      4\u001b[0m \u001b[0mper\u001b[0m \u001b[1;33m=\u001b[0m \u001b[0mperm\u001b[0m\u001b[1;33m(\u001b[0m\u001b[1;36m5\u001b[0m\u001b[1;33m,\u001b[0m \u001b[1;36m2\u001b[0m\u001b[1;33m,\u001b[0m \u001b[0mexact\u001b[0m \u001b[1;33m=\u001b[0m \u001b[1;32mTrue\u001b[0m\u001b[1;33m)\u001b[0m\u001b[1;33m\u001b[0m\u001b[1;33m\u001b[0m\u001b[0m\n\u001b[0;32m      5\u001b[0m \u001b[0mprint\u001b[0m\u001b[1;33m(\u001b[0m\u001b[1;34m&quot;Number of permutations: &quot;\u001b[0m \u001b[1;33m+\u001b[0m \u001b[0mstr\u001b[0m\u001b[1;33m(\u001b[0m\u001b[0mper\u001b[0m\u001b[1;33m)\u001b[0m\u001b[1;33m)\u001b[0m\u001b[1;33m\u001b[0m\u001b[1;33m\u001b[0m\u001b[0m\n",
      "\u001b[1;31mModuleNotFoundError\u001b[0m: No module named &#39;scipy&#39;"
     ]
    }
   ],
   "source": [
    "# This is a Code cell written in Python!\n",
    "from scipy.special import perm\n",
    "#find permutation of 5, 2 using perm (N, k) function\n",
    "per = perm(5, 2, exact = True)\n",
    "print(\"Number of permutations: \" + str(per))"
   ]
  },
  {
   "cell_type": "markdown",
   "metadata": {},
   "source": [
    " \n",
    "In this way, the notebooks provided in this course have a number of markdown cells including theory, pictures, ecuations, etc., as well as code cells with parts to be completed by the students. "
   ]
  },
  {
   "cell_type": "markdown",
   "metadata": {},
   "source": [
    "### Notes\n",
    "\n",
    "1. If you feel stuck and you need a more capable **debugging** tool, there is a way to convert a notebook into a normal python script.\n",
    "\n",
    "  - Whithin the editor in File > Save as... > Python \n",
    "  - On the command line use the following: `jupyter nbconvert --to script YYY.ipynb` to convert whatever notebook you like.\n",
    "\n",
    "  Then you can debug it normally using an editor/IDE like **Visual Studio Code**, **Spyder** or **PyCharm**.\n",
    "  \n",
    "2. In the case, some visualization is bugged or doesn't display properly, there is a chance that `Restart Kernel and Run all Cells` could fix it."
   ]
  },
  {
   "cell_type": "markdown",
   "metadata": {},
   "source": [
    "## Python resources\n",
    "\n",
    "There are three Python libraries that will be intensively used throughout this book:\n",
    "\n",
    "<img src=\"./images/numpy_logo.png\" width=\"300\" align=\"left\"/>\n",
    "<img src=\"./images/scipy_logo.png\" width=\"300\"/>\n",
    "<img src=\"./images/matplotlib_logo.png\" width=\"300\"/>\n",
    "\n",
    "- **NumPy** adds support for multi-dimensional arrays and matrices, along with a large collection of high-level mathematical functions to operate on these arrays. It is written in C.\n",
    "- **Scipy** builds upon NumPy and adds extra functionalities (statistics, linear algebra, etc.).\n",
    "- **matplotlib** is a library providing multiple data visualization options.\n",
    "\n",
    "Next sections briefly introduce these libraries.\n"
   ]
  },
  {
   "cell_type": "markdown",
   "metadata": {},
   "source": [
    "## Numpy and Scipy\n",
    "\n",
    "For the creation of arrays and matrices, we'll use Numpy [(docs here)](https://docs.scipy.org/doc/numpy/reference/) and some functions from Scipy [(docs here)](https://docs.scipy.org/doc/scipy/reference/)."
   ]
  },
  {
   "cell_type": "code",
   "execution_count": null,
   "metadata": {},
   "outputs": [],
   "source": [
    "import numpy as np # Import library"
   ]
  },
  {
   "cell_type": "markdown",
   "metadata": {},
   "source": [
    "- **Array creation**: In the code, we'll always use numpy arrays(`np.ndarray` class) created by:\n",
    "\n",
    "`np.array([...])`: For normal array creation    "
   ]
  },
  {
   "cell_type": "code",
   "execution_count": null,
   "metadata": {},
   "outputs": [],
   "source": [
    "identity = np.array([[1,0,0],[0,1,0],[0,0,1]])\n",
    "print(\"Identity matrix: \\n\", identity)"
   ]
  },
  {
   "cell_type": "markdown",
   "metadata": {},
   "source": [
    "`np.vstack([...])` and `np.hstack([...])`: For vertical and horizontal concatenation respectively.    "
   ]
  },
  {
   "cell_type": "code",
   "execution_count": null,
   "metadata": {},
   "outputs": [],
   "source": [
    "print (\"Vertical array: \\n\", np.vstack([3,4,5]))\n",
    "print (\"Horizontal array: \\n\", np.hstack([3,4,5]))"
   ]
  },
  {
   "cell_type": "markdown",
   "metadata": {},
   "source": [
    "`np.diag([...])`: To create a diagonal matrix.    "
   ]
  },
  {
   "cell_type": "code",
   "execution_count": null,
   "metadata": {
    "scrolled": true
   },
   "outputs": [],
   "source": [
    "print (\"Diagonal matrix: \\n\", np.diag([3,4,5]))"
   ]
  },
  {
   "cell_type": "markdown",
   "metadata": {},
   "source": [
    "- **Matrix operations**: There exist another class called `np.matrix` that eases some operations: inverse, transpose,... I will not use it in our code as it is marked for future deprecation. Instead you may use the following functions:\n",
    "    - `scipy.linalg.inv()`: For the **inverse** of a matrix.\n",
    "    - If we have a ndarray called `A` we can use `A.T` for the **transpose**. In the case A is a flat ndarray and we want a vertical vector `np.vstack(A)` may be used, as `A.T` will not return our expected output."
   ]
  },
  {
   "cell_type": "code",
   "execution_count": null,
   "metadata": {},
   "outputs": [],
   "source": [
    "A = np.array([[1, 2],[3,4]])\n",
    "print('A: \\n',A)\n",
    "print('A.T: \\n:',A.T)\n",
    "b = np.array([1,2,3])\n",
    "print('b: \\n',b)\n",
    "print('b.T: \\n',b.T)\n",
    "print('np.vstack(b): \\n',np.vstack(b))"
   ]
  },
  {
   "cell_type": "markdown",
   "metadata": {},
   "source": [
    "For **matrix multiplication** the `@` operator is defined on ndarrays as such. Use: `A@B`\n",
    "\n",
    "- **Random value generation**: we will use in most the module `numpy.random` . But we may also use the `scipy.stats` module in some cases. There are few differences between the two."
   ]
  },
  {
   "cell_type": "markdown",
   "metadata": {},
   "source": [
    "### Matplotlib\n",
    "\n",
    "We use Matplotlib, more explicitely the `matplotlib.pyplot` module [(docs here)](https://matplotlib.org/api/_as_gen/matplotlib.pyplot.html) for plotting the different figures along the practices. In some cases we will provide you with the code to plot, in others you'll have to do it yourself.\n",
    "\n",
    "If you see some wierd code such as `%matplotlib notebook`, `%matplotlib inline` or `matplotlib.use('TkAgg')` you shouldn't care much about it. The first two are jupyter magic commands [(more info here)](https://ipython.readthedocs.io/en/stable/interactive/magics.html) to select which plotting backend to use."
   ]
  },
  {
   "cell_type": "code",
   "execution_count": null,
   "metadata": {},
   "outputs": [],
   "source": [
    "import matplotlib.pyplot as plt"
   ]
  },
  {
   "cell_type": "markdown",
   "metadata": {},
   "source": [
    "Some of the more relevant functions are:\n",
    "\n",
    "- `plt.figure()` or `plt.subplots()` to create a new plot.\n",
    "- `plt.plot()`: Catch-all plotting function. Depending on the parameters it can be used for drawing lines or scatter plots. It returns a plot handler that can be used to erase the drawing using `h.pop(0).remove()`."
   ]
  },
  {
   "cell_type": "code",
   "execution_count": null,
   "metadata": {},
   "outputs": [],
   "source": [
    "x = np.array([2,3,5,6])\n",
    "y = np.array([1,1,4,5])\n",
    "plt.plot(x, y, color='green', marker='o', linestyle='dashed',linewidth=2, markersize=12)"
   ]
  },
  {
   "cell_type": "markdown",
   "metadata": {},
   "source": [
    "- `plt.hist()`: Creating histograms"
   ]
  }
 ],
 "metadata": {
  "kernelspec": {
   "display_name": "Python 3.8.2 64-bit",
   "language": "python",
   "name": "python_defaultSpec_1601917742478"
  },
  "language_info": {
   "codemirror_mode": {
    "name": "ipython",
    "version": 3
   },
   "file_extension": ".py",
   "mimetype": "text/x-python",
   "name": "python",
   "nbconvert_exporter": "python",
   "pygments_lexer": "ipython3",
   "version": "3.8.2-final"
  }
 },
 "nbformat": 4,
 "nbformat_minor": 2
}